{
 "cells": [
  {
   "cell_type": "markdown",
   "id": "f94019b0-1e2f-45a8-9f84-28b551868672",
   "metadata": {},
   "source": [
    "DSCI 100 008 Project\n",
    "Group 8"
   ]
  },
  {
   "cell_type": "code",
   "execution_count": 1,
   "id": "8a6aefe6-2737-4309-a1d6-0a42a8fe8a9c",
   "metadata": {
    "tags": []
   },
   "outputs": [
    {
     "name": "stderr",
     "output_type": "stream",
     "text": [
      "── \u001b[1mAttaching packages\u001b[22m ─────────────────────────────────────── tidyverse 1.3.2 ──\n",
      "\u001b[32m✔\u001b[39m \u001b[34mggplot2\u001b[39m 3.4.2     \u001b[32m✔\u001b[39m \u001b[34mpurrr  \u001b[39m 1.0.1\n",
      "\u001b[32m✔\u001b[39m \u001b[34mtibble \u001b[39m 3.2.1     \u001b[32m✔\u001b[39m \u001b[34mdplyr  \u001b[39m 1.1.1\n",
      "\u001b[32m✔\u001b[39m \u001b[34mtidyr  \u001b[39m 1.3.0     \u001b[32m✔\u001b[39m \u001b[34mstringr\u001b[39m 1.5.0\n",
      "\u001b[32m✔\u001b[39m \u001b[34mreadr  \u001b[39m 2.1.3     \u001b[32m✔\u001b[39m \u001b[34mforcats\u001b[39m 0.5.2\n",
      "── \u001b[1mConflicts\u001b[22m ────────────────────────────────────────── tidyverse_conflicts() ──\n",
      "\u001b[31m✖\u001b[39m \u001b[34mdplyr\u001b[39m::\u001b[32mfilter()\u001b[39m masks \u001b[34mstats\u001b[39m::filter()\n",
      "\u001b[31m✖\u001b[39m \u001b[34mdplyr\u001b[39m::\u001b[32mlag()\u001b[39m    masks \u001b[34mstats\u001b[39m::lag()\n",
      "── \u001b[1mAttaching packages\u001b[22m ────────────────────────────────────── tidymodels 1.0.0 ──\n",
      "\n",
      "\u001b[32m✔\u001b[39m \u001b[34mbroom       \u001b[39m 1.0.2     \u001b[32m✔\u001b[39m \u001b[34mrsample     \u001b[39m 1.1.1\n",
      "\u001b[32m✔\u001b[39m \u001b[34mdials       \u001b[39m 1.1.0     \u001b[32m✔\u001b[39m \u001b[34mtune        \u001b[39m 1.0.1\n",
      "\u001b[32m✔\u001b[39m \u001b[34minfer       \u001b[39m 1.0.4     \u001b[32m✔\u001b[39m \u001b[34mworkflows   \u001b[39m 1.1.2\n",
      "\u001b[32m✔\u001b[39m \u001b[34mmodeldata   \u001b[39m 1.0.1     \u001b[32m✔\u001b[39m \u001b[34mworkflowsets\u001b[39m 1.0.0\n",
      "\u001b[32m✔\u001b[39m \u001b[34mparsnip     \u001b[39m 1.0.3     \u001b[32m✔\u001b[39m \u001b[34myardstick   \u001b[39m 1.1.0\n",
      "\u001b[32m✔\u001b[39m \u001b[34mrecipes     \u001b[39m 1.0.4     \n",
      "\n",
      "── \u001b[1mConflicts\u001b[22m ───────────────────────────────────────── tidymodels_conflicts() ──\n",
      "\u001b[31m✖\u001b[39m \u001b[34mscales\u001b[39m::\u001b[32mdiscard()\u001b[39m masks \u001b[34mpurrr\u001b[39m::discard()\n",
      "\u001b[31m✖\u001b[39m \u001b[34mdplyr\u001b[39m::\u001b[32mfilter()\u001b[39m   masks \u001b[34mstats\u001b[39m::filter()\n",
      "\u001b[31m✖\u001b[39m \u001b[34mrecipes\u001b[39m::\u001b[32mfixed()\u001b[39m  masks \u001b[34mstringr\u001b[39m::fixed()\n",
      "\u001b[31m✖\u001b[39m \u001b[34mdplyr\u001b[39m::\u001b[32mlag()\u001b[39m      masks \u001b[34mstats\u001b[39m::lag()\n",
      "\u001b[31m✖\u001b[39m \u001b[34myardstick\u001b[39m::\u001b[32mspec()\u001b[39m masks \u001b[34mreadr\u001b[39m::spec()\n",
      "\u001b[31m✖\u001b[39m \u001b[34mrecipes\u001b[39m::\u001b[32mstep()\u001b[39m   masks \u001b[34mstats\u001b[39m::step()\n",
      "\u001b[34m•\u001b[39m Use suppressPackageStartupMessages() to eliminate package startup messages\n",
      "\n"
     ]
    }
   ],
   "source": [
    "#Loading Packages\n",
    "library(repr)\n",
    "library(tidyverse)\n",
    "library(tidymodels)\n",
    "library(dplyr)\n",
    "library(cowplot)\n",
    "\n",
    "set.seed(999)\n",
    "options(repr.plot.width = 8, repr.plot.height = 8)"
   ]
  },
  {
   "cell_type": "code",
   "execution_count": null,
   "id": "ce09e174-1085-409a-b933-f45fb2896fdc",
   "metadata": {
    "tags": []
   },
   "outputs": [
    {
     "name": "stderr",
     "output_type": "stream",
     "text": [
      "\u001b[1mRows: \u001b[22m\u001b[34m517\u001b[39m \u001b[1mColumns: \u001b[22m\u001b[34m13\u001b[39m\n",
      "\u001b[36m──\u001b[39m \u001b[1mColumn specification\u001b[22m \u001b[36m────────────────────────────────────────────────────────\u001b[39m\n",
      "\u001b[1mDelimiter:\u001b[22m \",\"\n",
      "\u001b[31mchr\u001b[39m  (2): month, day\n",
      "\u001b[32mdbl\u001b[39m (11): X, Y, FFMC, DMC, DC, ISI, temp, RH, wind, rain, area\n",
      "\n",
      "\u001b[36mℹ\u001b[39m Use `spec()` to retrieve the full column specification for this data.\n",
      "\u001b[36mℹ\u001b[39m Specify the column types or set `show_col_types = FALSE` to quiet this message.\n"
     ]
    }
   ],
   "source": [
    "ff_raw <- read_csv(\"https://raw.githubusercontent.com/MingTxm/DSCI100_GroupProject/main/forestfires.csv\")\n",
    "head(ff_raw)"
   ]
  },
  {
   "cell_type": "code",
   "execution_count": null,
   "id": "7bf7ab6b-a6ad-4052-b0ec-342203095596",
   "metadata": {
    "tags": []
   },
   "outputs": [],
   "source": [
    "# Filtering Relevant Data\n",
    "ff <- ff_raw |>\n",
    "    select(month, ISI, temp, wind) |>\n",
    "    arrange(desc(month)) |>\n",
    "    drop_na()\n",
    "head(ff)\n",
    "nrow(ff)\n",
    "\n",
    "# Splitting the Data\n",
    "ff_split <- initial_split(ff, prop = 0.75, strata = ISI)\n",
    "    ff_train <- training(ff_split)\n",
    "    ff_test <- testing(ff_split)"
   ]
  },
  {
   "cell_type": "code",
   "execution_count": null,
   "id": "cfa38187-c488-42fb-92ab-06472b851858",
   "metadata": {},
   "outputs": [],
   "source": [
    "# ISI vs Temperature Plot #\n",
    "ff_temp_plot <- ff |>\n",
    "    ggplot(aes(x = temp, y = ISI)) +\n",
    "        geom_point(alpha = 0.4) +\n",
    "        labs(x = \"Temperature (Celsius)\", y = \"ISI Index\", title = \"Fig. 1 - ISI Index vs Temperature\") +\n",
    "        theme(text = element_text(size = 12))\n",
    "ff_temp_plot"
   ]
  },
  {
   "cell_type": "code",
   "execution_count": null,
   "id": "a191f488-db07-4e58-856a-bd22fb63c739",
   "metadata": {
    "tags": []
   },
   "outputs": [],
   "source": [
    "## Temp Regression Model ##\n",
    "\n",
    "ff_train_temp <- ff_train |>\n",
    "    select(ISI, temp)\n",
    "head(ff_train_temp)\n",
    "\n",
    "lm_spec <- linear_reg() |>\n",
    "    set_engine(\"lm\") |>\n",
    "    set_mode(\"regression\")\n",
    "\n",
    "temp_recipe <- recipe(ISI ~ temp, data = ff_train_temp)\n",
    "\n",
    "temp_fit <- workflow()|>\n",
    "    add_recipe(temp_recipe) |>\n",
    "    add_model(lm_spec) |>\n",
    "    fit(data = ff_train_temp)"
   ]
  },
  {
   "cell_type": "code",
   "execution_count": null,
   "id": "26f5f361-ea97-4b0e-9dd6-4167f3e74497",
   "metadata": {
    "tags": []
   },
   "outputs": [],
   "source": [
    "## Temperature Prediction ##\n",
    "\n",
    "temp_prediction <- temp_fit |>\n",
    "    predict(ff_test) |>\n",
    "    bind_cols(ff_test) |>\n",
    "    select(.pred, month, ISI, temp)\n",
    "head(temp_prediction)\n",
    "\n",
    "## Plotting Temperature Prediction ##\n",
    "\n",
    "temp_prediction_plot <- temp_prediction |>\n",
    "    ggplot(aes(x = temp, y = ISI)) +\n",
    "        geom_point(alpha = 0.4) +\n",
    "        geom_line(mapping = aes(x = temp, y = .pred), color = \"blue\") +\n",
    "        labs(x = \"Temperature (Celsius)\", y = \"ISI Index\", title = \"Fig.2 - ISI (prediction) vs Temperature\") +\n",
    "        theme(text = element_text(size = 12))\n",
    "temp_prediction_plot"
   ]
  },
  {
   "cell_type": "code",
   "execution_count": null,
   "id": "c48d3e98-b7a4-4a0a-82b4-1c6958710767",
   "metadata": {
    "tags": []
   },
   "outputs": [],
   "source": [
    "## Temp Plots Side-by-Side ##\n",
    "\n",
    "temp_plots <- plot_grid(\n",
    "    ff_temp_plot,\n",
    "    temp_prediction_plot,\n",
    "    ncol = 1\n",
    "    )\n",
    "temp_plots"
   ]
  },
  {
   "cell_type": "code",
   "execution_count": null,
   "id": "8e841669-8b00-44b0-8e86-2d5275f4ec61",
   "metadata": {
    "tags": []
   },
   "outputs": [],
   "source": [
    "## Temp Prediction Accuracy\n",
    "\n",
    "temp_prediction_results <- temp_fit |>\n",
    "    predict(ff_test) |>\n",
    "    bind_cols(ff_test) |>\n",
    "    metrics(truth = ISI, estimate = .pred)\n",
    "\n",
    "temp_rmspe <- temp_prediction_results |>\n",
    "     filter(.metric == \"rmse\") |>\n",
    "     select(.estimate) |>\n",
    "     pull()\n",
    "temp_rmspe\n"
   ]
  },
  {
   "cell_type": "code",
   "execution_count": null,
   "id": "d5d0a053-b01e-464e-854a-5acd0ce86731",
   "metadata": {
    "tags": []
   },
   "outputs": [],
   "source": [
    "## ISI vs Wind Plot ##\n",
    "ff_wind_plot <- ff |>\n",
    "    ggplot(aes(x = wind, y = ISI)) +\n",
    "        geom_point(alpha = 0.4) +\n",
    "        labs(x = \"Wind Speed (km/h)\", y = \"ISI Index\", title = \"Fig.3 - ISI Index vs Wind Speed\") +\n",
    "        theme(text = element_text(size = 12))\n",
    "ff_wind_plot"
   ]
  },
  {
   "cell_type": "code",
   "execution_count": null,
   "id": "b3978eab-e9da-4562-9be0-99cf46e20524",
   "metadata": {},
   "outputs": [],
   "source": [
    "## Wind Regression Model ##\n",
    "ff_train_wind <- ff_train |>\n",
    "    select(ISI, wind)\n",
    "head(ff_train_wind)\n",
    "\n",
    "lm_spec <- linear_reg() |>\n",
    "    set_engine(\"lm\") |>\n",
    "    set_mode(\"regression\")\n",
    "\n",
    "wind_recipe <- recipe(ISI ~ wind, data = ff_train_wind)\n",
    "\n",
    "wind_fit <- workflow()|>\n",
    "    add_recipe(wind_recipe) |>\n",
    "    add_model(lm_spec) |>\n",
    "    fit(data = ff_train_wind)"
   ]
  },
  {
   "cell_type": "code",
   "execution_count": null,
   "id": "ec12b645-6278-4baa-b017-dc1f8baf657d",
   "metadata": {
    "tags": []
   },
   "outputs": [],
   "source": [
    "## Wind Prediction ##\n",
    "\n",
    "wind_prediction <- wind_fit |>\n",
    "    predict(ff_test) |>\n",
    "    bind_cols(ff_test) |>\n",
    "    select(.pred, month, ISI, wind)\n",
    "head(wind_prediction)\n",
    "\n",
    "## Plotting Temperature Prediction ##\n",
    "\n",
    "wind_prediction_plot <- wind_prediction |>\n",
    "    ggplot(aes(x = wind, y = ISI)) +\n",
    "        geom_point(alpha = 0.4) +\n",
    "        geom_line(mapping = aes(x = wind, y = .pred), color = \"blue\") +\n",
    "        labs(x = \"Wind Speed (km/h)\", y = \"ISI Index\", title = \"Fig. 4 - ISI (prediction) vs Wind Speed\") +\n",
    "        theme(text = element_text(size = 12))\n",
    "wind_prediction_plot"
   ]
  },
  {
   "cell_type": "code",
   "execution_count": null,
   "id": "74e56ac9-96e7-4b83-803b-050f7afbf62e",
   "metadata": {
    "tags": []
   },
   "outputs": [],
   "source": [
    "## Wind Plots Side-by-Side ##\n",
    "\n",
    "wind_plots <- plot_grid(\n",
    "    ff_wind_plot,\n",
    "    wind_prediction_plot,\n",
    "    ncol = 1\n",
    "    )\n",
    "wind_plots"
   ]
  },
  {
   "cell_type": "code",
   "execution_count": null,
   "id": "0a356adb-70d5-4536-a2a7-93f3b02b3d1e",
   "metadata": {
    "tags": []
   },
   "outputs": [],
   "source": [
    "## Wind Pred Accuracy ##\n",
    "\n",
    "wind_prediction_results <- wind_fit |>\n",
    "    predict(ff_test) |>\n",
    "    bind_cols(ff_test) |>\n",
    "    metrics(truth = ISI, estimate = .pred)\n",
    "\n",
    "wind_rmspe <- wind_prediction_results |>\n",
    "     filter(.metric == \"rmse\") |>\n",
    "     select(.estimate) |>\n",
    "     pull()\n",
    "wind_rmspe"
   ]
  },
  {
   "cell_type": "code",
   "execution_count": null,
   "id": "f0ae2ca0-5f0e-4733-b7e1-d8666806a7ab",
   "metadata": {},
   "outputs": [],
   "source": []
  }
 ],
 "metadata": {
  "kernelspec": {
   "display_name": "R",
   "language": "R",
   "name": "ir"
  },
  "language_info": {
   "codemirror_mode": "r",
   "file_extension": ".r",
   "mimetype": "text/x-r-source",
   "name": "R",
   "pygments_lexer": "r",
   "version": "4.2.2"
  }
 },
 "nbformat": 4,
 "nbformat_minor": 5
}
